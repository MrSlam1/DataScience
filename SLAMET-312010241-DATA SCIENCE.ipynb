{
 "cells": [
  {
   "cell_type": "code",
   "execution_count": 14,
   "id": "0d812e2f",
   "metadata": {},
   "outputs": [],
   "source": [
    "import findspark\n",
    "findspark.init()"
   ]
  },
  {
   "cell_type": "code",
   "execution_count": 15,
   "id": "955771fa",
   "metadata": {},
   "outputs": [],
   "source": [
    "#import libbrary yang diperlukan\n",
    "import os\n",
    "import warnings\n",
    "warnings.filterwarnings('ignore')\n",
    "from pyspark.sql import SparkSession\n",
    "from pyspark.sql.types import StructField, StructType, StringType, IntegerType, FloatType\n",
    "from pyspark.sql.functions import split, count, when, isnan, col, regexp_replace\n",
    "from pyspark.ml.feature import OneHotEncoder, StringIndexer\n",
    "from pyspark.ml.linalg import Vectors\n",
    "from pyspark.ml.feature import VectorAssembler, StandardScaler\n",
    "from pyspark.ml.clustering import KMeans\n",
    "from pyspark.ml.evaluation import ClusteringEvaluator\n",
    "import matplotlib.pyplot as plt\n",
    "import numpy as np\n",
    "import pandas as pd\n"
   ]
  },
  {
   "cell_type": "code",
   "execution_count": 16,
   "id": "e8ed950c",
   "metadata": {},
   "outputs": [
    {
     "name": "stdout",
     "output_type": "stream",
     "text": [
      "Spark Version: 3.5.0\n"
     ]
    }
   ],
   "source": [
    "#inisiasi spark session\n",
    "spark = SparkSession.builder.appName('First Session').getOrCreate()\n",
    "\n",
    "#chek versi spark\n",
    "print('Spark Version: {}'.format(spark.version))"
   ]
  },
  {
   "cell_type": "code",
   "execution_count": 17,
   "id": "b622168c",
   "metadata": {},
   "outputs": [
    {
     "name": "stdout",
     "output_type": "stream",
     "text": [
      "+----------------+-------+-------+-------+-------+-------+-------+-------+-------+-------+-------+-------+-------+-------+-------+-------+-------+-------+-------+-------+-------+-------+-------+-------+-------+-------+-------+-------+-------+-------+-------+-------+-------+-------+-------+-------+-------+-------+-------+-------+-------+-------+-------+-------+-------+-------+-------+-------+\n",
      "|            Kota|2020-01|2020-02|2020-03|2020-04|2020-05|2020-06|2020-07|2020-08|2020-09|2020-10|2020-11|2020-12|2021-01|2021-02|2021-03|2021-04|2021-05|2021-06|2021-07|2021-08|2021-09|2021-10|2021-11|2021-12|2022-01|2022-02|2022-03|2022-04|2022-05|2022-06|2022-07|2022-08|2022-09|2022-10|2022-11|2022-12|2023-01|2023-02|2023-03|2023-04|2023-05|2023-06|2023-07|2023-08|2023-09|2023-10|2023-11|\n",
      "+----------------+-------+-------+-------+-------+-------+-------+-------+-------+-------+-------+-------+-------+-------+-------+-------+-------+-------+-------+-------+-------+-------+-------+-------+-------+-------+-------+-------+-------+-------+-------+-------+-------+-------+-------+-------+-------+-------+-------+-------+-------+-------+-------+-------+-------+-------+-------+-------+\n",
      "|        MEULABOH|   3.69|   3.04|   4.18|   2.75|   4.33|    4.1|    3.1|   4.46|   4.67|   5.64|   5.77|   8.39|   1.15|  -1.08|  -2.42|  -1.18|   0.38|   -0.1|   0.53|   0.46|  -1.56|   0.01|   0.96|   2.83|   1.99|  -0.81|  -0.07|   1.12|   4.17|   7.63|    9.9|   8.33|   6.36|   5.72|   4.03|   6.45|   1.67|   2.48|   0.03|  -2.17|  -0.88|   0.36|   1.18|   0.55|   1.62|    2.3|   2.68|\n",
      "|      BANDA ACEH|   1.35|   1.36|    2.9|   2.41|   2.34|   1.66|  -0.11|   0.72|  -0.19|   2.47|   3.35|   6.39|   2.69|   0.69|   -0.8|    0.8|   1.01|   0.23|  -0.56|   0.52|   -0.8|   0.28|   1.73|   3.14|   1.72|  -1.72|  -1.22|   0.62|   2.78|   5.75|   7.06|   4.33|   2.98|   1.26|   1.54|   3.68|   1.64|   3.47|    2.2|   2.36|   2.73|    3.5|    4.4|   3.05|   3.16|   2.11|   3.53|\n",
      "|     LHOKSEUMAWE|   0.19|   1.23|    2.6|   1.66|   1.69|   1.67|   0.23|   0.64|   0.48|   3.26|    3.9|   8.01|   1.96|  -0.69|  -0.76|   0.29|   0.43|   0.18|   -0.2|  -1.01|  -1.46|  -0.27|   1.98|   3.36|   2.76|  -0.88|   1.12|   2.27|   4.32|   5.62|   5.87|   2.54|   2.69|   2.58|   1.22|   5.13|   1.56|   2.73|    1.4|  -0.06|   1.34|    1.4|   0.97|   0.64|   1.17|    0.5|   1.07|\n",
      "|         SIBOLGA|   0.57|   2.36|   0.05|   -1.5|  -1.59|  -1.36|   -2.2|   -2.5|   -1.7|   1.08|   1.76|   4.43|   1.63|  -0.05|  -0.84|  -0.22|  -1.36|  -0.55|   1.05|    1.2|   1.91|   2.08|   3.19|   3.28|   3.07|   2.43|   4.34|   2.71|   4.23|   7.65|   9.47|   8.25|   6.98|   3.64|   2.92|   6.35|   2.94|   3.58|   1.35|    0.0|   0.37|   2.01|   2.84|   2.81|   3.89|   3.32|   2.67|\n",
      "|PEMATANG SIANTAR|    1.7|    2.1|   1.45|   0.54|   1.54|    1.2|  -0.84|  -0.94|   -0.2|   1.01|    2.8|    6.5|   2.37|   0.97|    0.2|   0.05|   0.06|   0.67|    0.5|    0.2|    0.7|  -0.26|   1.09|   2.53|   2.36|   2.22|   3.44|   4.01|   5.35|    8.6|   8.46|   6.03|   5.18|   3.28|    2.9|   7.21|   2.17|   1.45|    0.4|  -0.41|    0.6|   1.99|   2.02|   0.68|   0.95|   0.43|   1.26|\n",
      "+----------------+-------+-------+-------+-------+-------+-------+-------+-------+-------+-------+-------+-------+-------+-------+-------+-------+-------+-------+-------+-------+-------+-------+-------+-------+-------+-------+-------+-------+-------+-------+-------+-------+-------+-------+-------+-------+-------+-------+-------+-------+-------+-------+-------+-------+-------+-------+-------+\n",
      "only showing top 5 rows\n",
      "\n"
     ]
    }
   ],
   "source": [
    "#mendefinisikan schema\n",
    "file_path = 'inflasi.csv'\n",
    "\n",
    "df = spark.read.csv(file_path,\n",
    "                    header = True,\n",
    "                    inferSchema = True,\n",
    "                    nanValue = '?')\n",
    "\n",
    "df.show(5)"
   ]
  },
  {
   "cell_type": "code",
   "execution_count": 18,
   "id": "3bc11062",
   "metadata": {},
   "outputs": [
    {
     "data": {
      "text/plain": [
       "[Row(Kota='MANOKWARI', 2020-01=0.23, 2020-02=2.88, 2020-03=1.32, 2020-04=3.35, 2020-05=3.46, 2020-06=3.25, 2020-07=0.32, 2020-08=0.4, 2020-09=-0.84, 2020-10=-3.76, 2020-11=-3.33, 2020-12=-1.38, 2021-01=0.52, 2021-02=1.3, 2021-03=2.66, 2021-04=1.33, 2021-05=4.3, 2021-06=7.29, 2021-07=5.31, 2021-08=3.81, 2021-09=2.68, 2021-10=2.88, 2021-11=2.88, 2021-12=3.39, 2022-01=3.71, 2022-02=1.87, 2022-03=4.68, 2022-04=2.53, 2022-05=7.42, 2022-06=6.47, 2022-07=2.4, 2022-08=2.81, 2022-09=1.45, 2022-10=3.37, 2022-11=3.49, 2022-12=8.11, 2023-01=1.96, 2023-02=-0.37, 2023-03=-2.59, 2023-04=0.64, 2023-05=2.72, 2023-06=3.28, 2023-07=5.3, 2023-08=7.32, 2023-09=3.42, 2023-10=2.58, 2023-11=0.66),\n",
       " Row(Kota='SORONG', 2020-01=0.59, 2020-02=1.68, 2020-03=1.9, 2020-04=3.23, 2020-05=3.4, 2020-06=4.53, 2020-07=5.01, 2020-08=4.53, 2020-09=4.17, 2020-10=2.97, 2020-11=4.5, 2020-12=5.36, 2021-01=2.98, 2021-02=2.1, 2021-03=4.24, 2021-04=3.7, 2021-05=5.43, 2021-06=8.6, 2021-07=12.63, 2021-08=10.26, 2021-09=8.49, 2021-10=7.62, 2021-11=6.42, 2021-12=8.63, 2022-01=2.81, 2022-02=-0.17, 2022-03=-2.03, 2022-04=-1.54, 2022-05=0.03, 2022-06=-1.0, 2022-07=-0.11, 2022-08=-0.66, 2022-09=-0.33, 2022-10=-2.62, 2022-11=-2.84, 2022-12=-3.73, 2023-01=2.93, 2023-02=2.7, 2023-03=4.97, 2023-04=4.74, 2023-05=6.63, 2023-06=8.01, 2023-07=7.55, 2023-08=7.13, 2023-09=6.57, 2023-10=7.66, 2023-11=5.67),\n",
       " Row(Kota='MERAUKE', 2020-01=1.32, 2020-02=3.79, 2020-03=-1.14, 2020-04=0.11, 2020-05=2.28, 2020-06=2.67, 2020-07=1.01, 2020-08=-1.44, 2020-09=-1.03, 2020-10=-1.57, 2020-11=0.68, 2020-12=2.9, 2021-01=0.23, 2021-02=1.85, 2021-03=3.97, 2021-04=4.2, 2021-05=3.21, 2021-06=4.02, 2021-07=3.17, 2021-08=0.28, 2021-09=-2.34, 2021-10=-1.49, 2021-11=-0.74, 2021-12=1.54, 2022-01=2.69, 2022-02=3.58, 2022-03=8.15, 2022-04=8.57, 2022-05=7.71, 2022-06=7.18, 2022-07=8.14, 2022-08=5.77, 2022-09=3.27, 2022-10=3.72, 2022-11=2.96, 2022-12=6.45, 2023-01=2.1, 2023-02=1.55, 2023-03=3.71, 2023-04=6.64, 2023-05=9.76, 2023-06=8.73, 2023-07=7.99, 2023-08=7.33, 2023-09=4.96, 2023-10=5.37, 2023-11=5.41),\n",
       " Row(Kota='TIMIKA', 2020-01=2.4, 2020-02=4.84, 2020-03=2.01, 2020-04=5.04, 2020-05=6.7, 2020-06=8.87, 2020-07=9.92, 2020-08=10.12, 2020-09=8.06, 2020-10=8.77, 2020-11=8.94, 2020-12=9.85, 2021-01=-0.19, 2021-02=0.11, 2021-03=-0.57, 2021-04=2.16, 2021-05=-1.06, 2021-06=-0.49, 2021-07=0.53, 2021-08=0.46, 2021-09=-0.23, 2021-10=-0.82, 2021-11=-0.17, 2021-12=1.47, 2022-01=-0.29, 2022-02=-0.85, 2022-03=-0.03, 2022-04=1.13, 2022-05=0.59, 2022-06=2.38, 2022-07=6.01, 2022-08=7.33, 2022-09=5.14, 2022-10=6.06, 2022-11=4.88, 2022-12=4.76, 2023-01=-0.72, 2023-02=-0.68, 2023-03=-0.47, 2023-04=2.14, 2023-05=3.85, 2023-06=4.41, 2023-07=5.77, 2023-08=6.79, 2023-09=4.77, 2023-10=4.49, 2023-11=4.81),\n",
       " Row(Kota='JAYAPURA', 2020-01=0.95, 2020-02=2.86, 2020-03=2.31, 2020-04=3.35, 2020-05=3.31, 2020-06=2.86, 2020-07=2.13, 2020-08=-0.28, 2020-09=-0.59, 2020-10=-1.38, 2020-11=-0.33, 2020-12=1.05, 2021-01=0.98, 2021-02=3.72, 2021-03=6.83, 2021-04=3.16, 2021-05=0.11, 2021-06=-0.49, 2021-07=-0.6, 2021-08=-1.55, 2021-09=-2.79, 2021-10=-3.25, 2021-11=-0.62, 2021-12=1.86, 2022-01=0.43, 2022-02=-0.18, 2022-03=0.7, 2022-04=4.75, 2022-05=6.49, 2022-06=7.72, 2022-07=6.05, 2022-08=5.81, 2022-09=4.14, 2022-10=4.09, 2022-11=4.3, 2022-12=5.16, 2023-01=-0.31, 2023-02=-2.04, 2023-03=-1.61, 2023-04=0.04, 2023-05=1.3, 2023-06=1.99, 2023-07=0.81, 2023-08=0.62, 2023-09=0.27, 2023-10=0.15, 2023-11=0.52)]"
      ]
     },
     "execution_count": 18,
     "metadata": {},
     "output_type": "execute_result"
    }
   ],
   "source": [
    "df_clean=df.na.drop()\n",
    "df_clean.tail(5)"
   ]
  },
  {
   "cell_type": "code",
   "execution_count": 19,
   "id": "e62b1720",
   "metadata": {},
   "outputs": [],
   "source": [
    "df_pandas = df_clean.toPandas()"
   ]
  },
  {
   "cell_type": "code",
   "execution_count": 20,
   "id": "021d9dfb",
   "metadata": {},
   "outputs": [
    {
     "name": "stdout",
     "output_type": "stream",
     "text": [
      "+----------------+-------+-------+\n",
      "|            Kota|  bulan|inflasi|\n",
      "+----------------+-------+-------+\n",
      "|        MEULABOH|2020-01|   3.69|\n",
      "|      BANDA ACEH|2020-01|   1.35|\n",
      "|     LHOKSEUMAWE|2020-01|   0.19|\n",
      "|         SIBOLGA|2020-01|   0.57|\n",
      "|PEMATANG SIANTAR|2020-01|    1.7|\n",
      "|           MEDAN|2020-01|   1.99|\n",
      "| PADANGSIDIMPUAN|2020-01|   0.72|\n",
      "|    GUNUNGSITOLI|2020-01|   3.22|\n",
      "|          PADANG|2020-01|   2.13|\n",
      "|     BUKITTINGGI|2020-01|   0.46|\n",
      "|      TEMBILAHAN|2020-01|   1.02|\n",
      "|       PEKANBARU|2020-01|   1.31|\n",
      "|           DUMAI|2020-01|   1.61|\n",
      "|           BUNGO|2020-01|   2.45|\n",
      "|           JAMBI|2020-01|   2.63|\n",
      "|       PALEMBANG|2020-01|   1.96|\n",
      "|    LUBUKLINGGAU|2020-01|    1.0|\n",
      "|        BENGKULU|2020-01|   0.86|\n",
      "|  BANDAR LAMPUNG|2020-01|   2.97|\n",
      "|           METRO|2020-01|   2.26|\n",
      "+----------------+-------+-------+\n",
      "only showing top 20 rows\n",
      "\n"
     ]
    }
   ],
   "source": [
    "data_long_pandas = pd.melt(df_pandas, id_vars=['Kota'], var_name='bulan', value_name='inflasi')\n",
    "data= spark.createDataFrame(data_long_pandas)\n",
    "data.show()"
   ]
  },
  {
   "cell_type": "code",
   "execution_count": 21,
   "id": "3834eb92",
   "metadata": {},
   "outputs": [],
   "source": [
    "feature_columns = data.columns[2:]\n",
    "assembler = VectorAssembler(inputCols=feature_columns, outputCol=\"features\")\n",
    "assembled_data = assembler.transform(data)"
   ]
  },
  {
   "cell_type": "code",
   "execution_count": 22,
   "id": "4a1b457f",
   "metadata": {},
   "outputs": [],
   "source": [
    "train_data, test_data = assembled_data.randomSplit([0.8, 0.2], seed=42)"
   ]
  },
  {
   "cell_type": "code",
   "execution_count": 23,
   "id": "4a95bec5",
   "metadata": {},
   "outputs": [],
   "source": [
    "k_values = list(range(2, 11))\n",
    "costs = []"
   ]
  },
  {
   "cell_type": "code",
   "execution_count": 24,
   "id": "ca56f381",
   "metadata": {},
   "outputs": [],
   "source": [
    "# Melakukan iterasi untuk setiap nilai k\n",
    "for k in k_values:\n",
    "    # Menginisialisasi dan melatih model KMeans\n",
    "    kmeans = KMeans(k=k, seed=42)\n",
    "    model = kmeans.fit(assembled_data)\n",
    "\n",
    "    # Menghitung cost\n",
    "    cost = model.summary.trainingCost\n",
    "    costs.append(cost)"
   ]
  },
  {
   "cell_type": "code",
   "execution_count": 25,
   "id": "bdd678b3",
   "metadata": {},
   "outputs": [
    {
     "name": "stdout",
     "output_type": "stream",
     "text": [
      "K=2, Cost=9779.950135130348\n",
      "K=3, Cost=5218.161596893357\n",
      "K=4, Cost=3308.1355779120195\n",
      "K=5, Cost=2273.7111313353353\n",
      "K=6, Cost=1667.6374919285358\n",
      "K=7, Cost=1365.635004043576\n",
      "K=8, Cost=1063.6089844842752\n",
      "K=9, Cost=840.8051396883359\n",
      "K=10, Cost=683.9009280410341\n"
     ]
    }
   ],
   "source": [
    "# Menampilkan hasil\n",
    "for k, cost in zip(k_values, costs):\n",
    "    print(f\"K={k}, Cost={cost}\")"
   ]
  },
  {
   "cell_type": "code",
   "execution_count": 26,
   "id": "e741b44d",
   "metadata": {},
   "outputs": [
    {
     "data": {
      "image/png": "[encoded data removed]",
      "text/plain": [
       "<Figure size 432x288 with 1 Axes>"
      ]
     },
     "metadata": {
      "needs_background": "light"
     },
     "output_type": "display_data"
    }
   ],
   "source": [
    "plt.plot(k_values, costs)\n",
    "plt.title('Elbow Method')\n",
    "plt.xlabel('Number of Clusters (k)')\n",
    "plt.ylabel('Cost')\n",
    "plt.show()"
   ]
  },
  {
   "cell_type": "code",
   "execution_count": 35,
   "id": "6be7e3db",
   "metadata": {},
   "outputs": [
    {
     "data": {
      "image/png": "[encoded data removed]",
      "text/plain": [
       "<Figure size 432x288 with 1 Axes>"
      ]
     },
     "metadata": {
      "needs_background": "light"
     },
     "output_type": "display_data"
    }
   ],
   "source": [
    "# Menggabungkan fitur menjadi satu kolom vektor\n",
    "assembler = VectorAssembler(inputCols=[\"inflasi\"], outputCol=\"features\")\n",
    "assembled_data = assembler.transform(data)\n",
    "\n",
    "# Menentukan jumlah klaster\n",
    "k_value = 5\n",
    "\n",
    "# Inisialisasi dan melatih model KMeans dengan jumlah klaster yang ditentukan\n",
    "kmeans = KMeans(k=k_value, seed=42)\n",
    "model = kmeans.fit(assembled_data)\n",
    "\n",
    "# Mendapatkan hasil klastering\n",
    "predictions = model.transform(assembled_data)\n",
    "\n",
    "# Ambil data hasil klastering dan fiturnya\n",
    "result = model.transform(assembled_data).select(\"Kota\", \"bulan\", \"inflasi\", \"prediction\").toPandas()\n",
    "\n",
    "# Plotting scatter plot dengan warna klaster yang berbeda\n",
    "plt.scatter(result[\"bulan\"], result[\"inflasi\"], c=result[\"prediction\"], cmap='viridis', s=50)\n",
    "plt.title('Plot Klaster hasil KMeans')\n",
    "plt.xlabel('Bulan')\n",
    "plt.ylabel('Inflasi')\n",
    "plt.xticks([])\n",
    "\n",
    "plt.show()"
   ]
  },
  {
   "cell_type": "code",
   "execution_count": 28,
   "id": "5a172104",
   "metadata": {},
   "outputs": [
    {
     "name": "stdout",
     "output_type": "stream",
     "text": [
      "Centroid dari Klaster:\n",
      "Klaster 1: [1.13392017]\n",
      "Klaster 2: [-0.85524178]\n",
      "Klaster 3: [5.1950719]\n",
      "Klaster 4: [8.35887789]\n",
      "Klaster 5: [2.93700483]\n"
     ]
    }
   ],
   "source": [
    "centroids = model.clusterCenters()\n",
    "\n",
    "# Menampilkan centroid\n",
    "print(\"Centroid dari Klaster:\")\n",
    "for i, centroid in enumerate(centroids):\n",
    "    print(f\"Klaster {i + 1}: {centroid}\")"
   ]
  },
  {
   "cell_type": "code",
   "execution_count": 29,
   "id": "8628636c",
   "metadata": {},
   "outputs": [
    {
     "data": {
      "text/html": [
       "<div>\n",
       "<style scoped>\n",
       "    .dataframe tbody tr th:only-of-type {\n",
       "        vertical-align: middle;\n",
       "    }\n",
       "\n",
       "    .dataframe tbody tr th {\n",
       "        vertical-align: top;\n",
       "    }\n",
       "\n",
       "    .dataframe thead th {\n",
       "        text-align: right;\n",
       "    }\n",
       "</style>\n",
       "<table border=\"1\" class=\"dataframe\">\n",
       "  <thead>\n",
       "    <tr style=\"text-align: right;\">\n",
       "      <th></th>\n",
       "      <th>Kota</th>\n",
       "      <th>bulan</th>\n",
       "      <th>inflasi</th>\n",
       "      <th>prediction</th>\n",
       "    </tr>\n",
       "  </thead>\n",
       "  <tbody>\n",
       "    <tr>\n",
       "      <th>0</th>\n",
       "      <td>MEULABOH</td>\n",
       "      <td>2020-01</td>\n",
       "      <td>3.69</td>\n",
       "      <td>4</td>\n",
       "    </tr>\n",
       "    <tr>\n",
       "      <th>1</th>\n",
       "      <td>BANDA ACEH</td>\n",
       "      <td>2020-01</td>\n",
       "      <td>1.35</td>\n",
       "      <td>0</td>\n",
       "    </tr>\n",
       "    <tr>\n",
       "      <th>2</th>\n",
       "      <td>LHOKSEUMAWE</td>\n",
       "      <td>2020-01</td>\n",
       "      <td>0.19</td>\n",
       "      <td>0</td>\n",
       "    </tr>\n",
       "    <tr>\n",
       "      <th>3</th>\n",
       "      <td>SIBOLGA</td>\n",
       "      <td>2020-01</td>\n",
       "      <td>0.57</td>\n",
       "      <td>0</td>\n",
       "    </tr>\n",
       "    <tr>\n",
       "      <th>4</th>\n",
       "      <td>PEMATANG SIANTAR</td>\n",
       "      <td>2020-01</td>\n",
       "      <td>1.70</td>\n",
       "      <td>0</td>\n",
       "    </tr>\n",
       "  </tbody>\n",
       "</table>\n",
       "</div>"
      ],
      "text/plain": [
       "               Kota    bulan  inflasi  prediction\n",
       "0          MEULABOH  2020-01     3.69           4\n",
       "1        BANDA ACEH  2020-01     1.35           0\n",
       "2       LHOKSEUMAWE  2020-01     0.19           0\n",
       "3           SIBOLGA  2020-01     0.57           0\n",
       "4  PEMATANG SIANTAR  2020-01     1.70           0"
      ]
     },
     "execution_count": 29,
     "metadata": {},
     "output_type": "execute_result"
    }
   ],
   "source": [
    "result.head()"
   ]
  },
  {
   "cell_type": "code",
   "execution_count": 31,
   "id": "286ee990",
   "metadata": {},
   "outputs": [
    {
     "name": "stdout",
     "output_type": "stream",
     "text": [
      "+----------------+-------+-------+----------+\n",
      "|            Kota|  bulan|inflasi|prediction|\n",
      "+----------------+-------+-------+----------+\n",
      "|        MEULABOH|2020-01|   3.69|         4|\n",
      "|      BANDA ACEH|2020-01|   1.35|         0|\n",
      "|     LHOKSEUMAWE|2020-01|   0.19|         0|\n",
      "|         SIBOLGA|2020-01|   0.57|         0|\n",
      "|PEMATANG SIANTAR|2020-01|    1.7|         0|\n",
      "|           MEDAN|2020-01|   1.99|         0|\n",
      "| PADANGSIDIMPUAN|2020-01|   0.72|         0|\n",
      "|    GUNUNGSITOLI|2020-01|   3.22|         4|\n",
      "|          PADANG|2020-01|   2.13|         4|\n",
      "|     BUKITTINGGI|2020-01|   0.46|         0|\n",
      "|      TEMBILAHAN|2020-01|   1.02|         0|\n",
      "|       PEKANBARU|2020-01|   1.31|         0|\n",
      "|           DUMAI|2020-01|   1.61|         0|\n",
      "|           BUNGO|2020-01|   2.45|         4|\n",
      "|           JAMBI|2020-01|   2.63|         4|\n",
      "|       PALEMBANG|2020-01|   1.96|         0|\n",
      "|    LUBUKLINGGAU|2020-01|    1.0|         0|\n",
      "|        BENGKULU|2020-01|   0.86|         0|\n",
      "|  BANDAR LAMPUNG|2020-01|   2.97|         4|\n",
      "|           METRO|2020-01|   2.26|         4|\n",
      "+----------------+-------+-------+----------+\n",
      "only showing top 20 rows\n",
      "\n"
     ]
    }
   ],
   "source": [
    "data_hist= spark.createDataFrame(result)\n",
    "data_hist.show()"
   ]
  },
  {
   "cell_type": "code",
   "execution_count": 32,
   "id": "54de6b2a",
   "metadata": {},
   "outputs": [
    {
     "data": {
      "image/png": "[encoded data removed]",
      "text/plain": [
       "<Figure size 432x288 with 1 Axes>"
      ]
     },
     "metadata": {
      "needs_background": "light"
     },
     "output_type": "display_data"
    }
   ],
   "source": [
    "# Mengumpulkan frekuensi kemunculan tiap klaster\n",
    "cluster_counts = data_hist.groupBy(\"prediction\").count().orderBy(\"prediction\").collect()\n",
    "\n",
    "# Ekstraksi data untuk plotting\n",
    "clusters = [row[\"prediction\"] for row in cluster_counts]\n",
    "frequencies = [row[\"count\"] for row in cluster_counts]\n",
    "\n",
    "# Plotting histogram dengan keterangan jumlah angka di atas diagram batang\n",
    "fig, ax = plt.subplots()\n",
    "bars = ax.bar(clusters, frequencies, color='blue')\n",
    "\n",
    "# Menambahkan keterangan jumlah angka di atas diagram batang\n",
    "for bar in bars:\n",
    "    yval = bar.get_height()\n",
    "    plt.text(bar.get_x() + bar.get_width()/2, yval, round(yval, 2), ha='center', va='bottom')\n",
    "\n",
    "\n",
    "# Plotting histogram\n",
    "plt.bar(clusters, frequencies, color='blue')\n",
    "plt.xlabel('Klaster')\n",
    "plt.ylabel('Frekuensi')\n",
    "plt.title('Histogram Frekuensi Klaster')\n",
    "plt.show()"
   ]
  },
  {
   "cell_type": "code",
   "execution_count": null,
   "id": "56caeb66",
   "metadata": {},
   "outputs": [],
   "source": []
  }
 ],
 "metadata": {
  "kernelspec": {
   "display_name": "Python 3",
   "language": "python",
   "name": "python3"
  },
  "language_info": {
   "codemirror_mode": {
    "name": "ipython",
    "version": 3
   },
   "file_extension": ".py",
   "mimetype": "text/x-python",
   "name": "python",
   "nbconvert_exporter": "python",
   "pygments_lexer": "ipython3",
   "version": "3.8.8"
  }
 },
 "nbformat": 4,
 "nbformat_minor": 5
}
